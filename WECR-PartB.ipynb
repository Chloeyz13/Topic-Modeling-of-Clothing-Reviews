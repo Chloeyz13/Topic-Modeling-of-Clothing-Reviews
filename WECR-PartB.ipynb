{
  "nbformat": 4,
  "nbformat_minor": 0,
  "metadata": {
    "colab": {
      "provenance": [],
      "include_colab_link": true
    },
    "kernelspec": {
      "display_name": "Python 3",
      "language": "python",
      "name": "python3"
    },
    "language_info": {
      "codemirror_mode": {
        "name": "ipython",
        "version": 3
      },
      "file_extension": ".py",
      "mimetype": "text/x-python",
      "name": "python",
      "nbconvert_exporter": "python",
      "pygments_lexer": "ipython3",
      "version": "3.7.3"
    }
  },
  "cells": [
    {
      "cell_type": "markdown",
      "metadata": {
        "id": "view-in-github",
        "colab_type": "text"
      },
      "source": [
        "<a href=\"https://colab.research.google.com/github/Chloeyz13/Topic-Modeling-of-Clothing-Reviews/blob/main/WECR-PartB.ipynb\" target=\"_parent\"><img src=\"https://colab.research.google.com/assets/colab-badge.svg\" alt=\"Open In Colab\"/></a>"
      ]
    },
    {
      "cell_type": "code",
      "metadata": {
        "id": "VAPlP5krJMFA"
      },
      "source": [
        "# Build LDA model\n",
        "num_topics = 10\n",
        "lda_model = gensim.models.ldamodel.LdaModel(corpus=corpus,\n",
        "                                           id2word=id2word,\n",
        "                                           num_topics=num_topics,\n",
        "                                           random_state=100,\n",
        "                                           update_every=1,\n",
        "                                           chunksize=100,\n",
        "                                           passes=10,\n",
        "                                           alpha='auto',\n",
        "                                           per_word_topics=True)"
      ],
      "execution_count": null,
      "outputs": []
    },
    {
      "cell_type": "markdown",
      "metadata": {
        "id": "YVvKis8MJMFA"
      },
      "source": [
        "<div class=\"alert alert-info\" style=\"background-color:#5d3a8e; color:white; padding:0px 10px; border-radius:5px;\"><h2 style='margin:10px 5px'> 13. View the topics in LDA model</h2>\n",
        "</div>\n",
        "\n",
        "The above LDA model is built with 5 different topics where each topic is a combination of keywords and each keyword contributes a certain weightage to the topic.\n",
        "\n",
        "You can see the keywords for each topic and the weightage(importance) of each keyword using `lda_model.print_topics()` as shown next."
      ]
    },
    {
      "cell_type": "code",
      "metadata": {
        "id": "_xrMa9_nJMFB"
      },
      "source": [
        "# Print the Keywords in the topics\n",
        "# pprint(lda_model.print_topics())\n",
        "doc_lda = lda_model[corpus]"
      ],
      "execution_count": null,
      "outputs": []
    },
    {
      "cell_type": "code",
      "metadata": {
        "colab": {
          "base_uri": "https://localhost:8080/"
        },
        "id": "8sMlpj7hK9zn",
        "outputId": "748c8e45-57a7-4f3d-bcce-da079b9020d1"
      },
      "source": [
        "!pip install pyLDAvis==3.2.1\n"
      ],
      "execution_count": null,
      "outputs": [
        {
          "output_type": "stream",
          "name": "stdout",
          "text": [
            "Looking in indexes: https://pypi.org/simple, https://us-python.pkg.dev/colab-wheels/public/simple/\n",
            "Collecting pyLDAvis==3.2.1\n",
            "  Downloading pyLDAvis-3.2.1.tar.gz (1.7 MB)\n",
            "\u001b[2K     \u001b[90m━━━━━━━━━━━━━━━━━━━━━━━━━━━━━━━━━━━━━━━━\u001b[0m \u001b[32m1.7/1.7 MB\u001b[0m \u001b[31m21.6 MB/s\u001b[0m eta \u001b[36m0:00:00\u001b[0m\n",
            "\u001b[?25h  Preparing metadata (setup.py) ... \u001b[?25l\u001b[?25hdone\n",
            "Requirement already satisfied: wheel>=0.23.0 in /usr/local/lib/python3.9/dist-packages (from pyLDAvis==3.2.1) (0.40.0)\n",
            "Requirement already satisfied: numpy>=1.9.2 in /usr/local/lib/python3.9/dist-packages (from pyLDAvis==3.2.1) (1.22.4)\n",
            "Requirement already satisfied: scipy>=0.18.0 in /usr/local/lib/python3.9/dist-packages (from pyLDAvis==3.2.1) (1.10.1)\n",
            "Requirement already satisfied: joblib>=0.8.4 in /usr/local/lib/python3.9/dist-packages (from pyLDAvis==3.2.1) (1.2.0)\n",
            "Requirement already satisfied: jinja2>=2.7.2 in /usr/local/lib/python3.9/dist-packages (from pyLDAvis==3.2.1) (3.1.2)\n",
            "Requirement already satisfied: numexpr in /usr/local/lib/python3.9/dist-packages (from pyLDAvis==3.2.1) (2.8.4)\n",
            "Requirement already satisfied: future in /usr/local/lib/python3.9/dist-packages (from pyLDAvis==3.2.1) (0.18.3)\n",
            "Collecting funcy\n",
            "  Downloading funcy-2.0-py2.py3-none-any.whl (30 kB)\n",
            "Requirement already satisfied: pandas>=0.17.0 in /usr/local/lib/python3.9/dist-packages (from pyLDAvis==3.2.1) (1.5.3)\n",
            "Requirement already satisfied: MarkupSafe>=2.0 in /usr/local/lib/python3.9/dist-packages (from jinja2>=2.7.2->pyLDAvis==3.2.1) (2.1.2)\n",
            "Requirement already satisfied: python-dateutil>=2.8.1 in /usr/local/lib/python3.9/dist-packages (from pandas>=0.17.0->pyLDAvis==3.2.1) (2.8.2)\n",
            "Requirement already satisfied: pytz>=2020.1 in /usr/local/lib/python3.9/dist-packages (from pandas>=0.17.0->pyLDAvis==3.2.1) (2022.7.1)\n",
            "Requirement already satisfied: six>=1.5 in /usr/local/lib/python3.9/dist-packages (from python-dateutil>=2.8.1->pandas>=0.17.0->pyLDAvis==3.2.1) (1.16.0)\n",
            "Building wheels for collected packages: pyLDAvis\n",
            "  Building wheel for pyLDAvis (setup.py) ... \u001b[?25l\u001b[?25hdone\n",
            "  Created wheel for pyLDAvis: filename=pyLDAvis-3.2.1-py2.py3-none-any.whl size=136189 sha256=ae7f2ea1ae34b4f7003b10057eaf6beea420434b73ec04d35371a0a709dc2b49\n",
            "  Stored in directory: /root/.cache/pip/wheels/d2/cc/56/70e7bd4fdf983a26b148dffa850bfb42707601f27d915f5485\n",
            "Successfully built pyLDAvis\n",
            "Installing collected packages: funcy, pyLDAvis\n",
            "Successfully installed funcy-2.0 pyLDAvis-3.2.1\n"
          ]
        }
      ]
    },
    {
      "cell_type": "code",
      "source": [
        "# Plotting tools\n",
        "import pyLDAvis\n",
        "import pyLDAvis.gensim  # don't skip this"
      ],
      "metadata": {
        "id": "nxHEbyEQJ6-W"
      },
      "execution_count": null,
      "outputs": []
    },
    {
      "cell_type": "code",
      "source": [
        "print ([itm for itm in dir(doc_lda) if not itm.startswith('__')])\n",
        "print ([itm for itm in dir(doc_lda.obj) if (not itm.startswith('__')) and (not itm.startswith('_'))])\n",
        "doc_lda.obj.print_topics(num_topics=-1)"
      ],
      "metadata": {
        "colab": {
          "base_uri": "https://localhost:8080/"
        },
        "id": "KuffmcjtIeqF",
        "outputId": "349f861b-7d55-4f5a-a0b2-2f4a925df09a"
      },
      "execution_count": null,
      "outputs": [
        {
          "output_type": "stream",
          "name": "stdout",
          "text": [
            "['_adapt_by_suffix', '_load_specials', '_save_specials', '_smart_save', 'add_lifecycle_event', 'chunksize', 'corpus', 'load', 'metadata', 'obj', 'save', 'save_corpus']\n",
            "['add_lifecycle_event', 'alpha', 'bound', 'callbacks', 'chunksize', 'clear', 'decay', 'diff', 'dispatcher', 'distributed', 'do_estep', 'do_mstep', 'dtype', 'eta', 'eval_every', 'expElogbeta', 'gamma_threshold', 'get_document_topics', 'get_term_topics', 'get_topic_terms', 'get_topics', 'id2word', 'inference', 'init_dir_prior', 'iterations', 'lifecycle_events', 'load', 'log_perplexity', 'minimum_phi_value', 'minimum_probability', 'num_terms', 'num_topics', 'num_updates', 'numworkers', 'offset', 'optimize_alpha', 'optimize_eta', 'passes', 'per_word_topics', 'print_topic', 'print_topics', 'random_state', 'save', 'show_topic', 'show_topics', 'state', 'sync_state', 'top_topics', 'update', 'update_alpha', 'update_eta', 'update_every']\n"
          ]
        },
        {
          "output_type": "stream",
          "name": "stderr",
          "text": [
            "/usr/local/lib/python3.9/dist-packages/ipykernel/ipkernel.py:283: DeprecationWarning: `should_run_async` will not call `transform_cell` automatically in the future. Please pass the result to `transformed_cell` argument and any exception that happen during thetransform in `preprocessing_exc_tuple` in IPython 7.17 and above.\n",
            "  and should_run_async(code)\n"
          ]
        },
        {
          "output_type": "execute_result",
          "data": {
            "text/plain": [
              "[(0,\n",
              "  '0.072*\"like\" + 0.053*\"lace\" + 0.033*\"touch\" + 0.032*\"consider\" + 0.031*\"place\" + 0.030*\"curve\" + 0.024*\"throw\" + 0.023*\"complaint\" + 0.023*\"tend\" + 0.022*\"odd\"'),\n",
              " (1,\n",
              "  '0.073*\"fit\" + 0.043*\"order\" + 0.038*\"buy\" + 0.034*\"go\" + 0.033*\"try\" + 0.028*\"long\" + 0.026*\"length\" + 0.025*\"see\" + 0.024*\"petite\" + 0.022*\"shirt\"'),\n",
              " (2,\n",
              "  '0.066*\"shoulder\" + 0.055*\"regular\" + 0.055*\"seem\" + 0.046*\"usual\" + 0.031*\"maybe\" + 0.031*\"boxy\" + 0.025*\"sell\" + 0.023*\"layer\" + 0.021*\"neckline\" + 0.020*\"already\"'),\n",
              " (3,\n",
              "  '0.110*\"add\" + 0.091*\"neck\" + 0.046*\"hole\" + 0.045*\"though\" + 0.039*\"mean\" + 0.034*\"lose\" + 0.033*\"hot\" + 0.030*\"away\" + 0.026*\"silk\" + 0.025*\"airy\"'),\n",
              " (4,\n",
              "  '0.134*\"size\" + 0.071*\"small\" + 0.043*\"large\" + 0.041*\"run\" + 0.030*\"waist\" + 0.028*\"medium\" + 0.027*\"big\" + 0.026*\"want\" + 0.026*\"cut\" + 0.023*\"usually\"'),\n",
              " (5,\n",
              "  '0.049*\"dress\" + 0.038*\"love\" + 0.037*\"wear\" + 0.035*\"look\" + 0.029*\"top\" + 0.026*\"color\" + 0.023*\"great\" + 0.020*\"fabric\" + 0.018*\"get\" + 0.017*\"well\"'),\n",
              " (6,\n",
              "  '0.167*\"sweater\" + 0.047*\"thick\" + 0.043*\"quite\" + 0.037*\"end\" + 0.031*\"coat\" + 0.024*\"arrive\" + 0.023*\"slim\" + 0.021*\"wait\" + 0.019*\"clothing\" + 0.018*\"base\"'),\n",
              " (7,\n",
              "  '0.050*\"worth\" + 0.040*\"disappoint\" + 0.034*\"elastic\" + 0.029*\"cheap\" + 0.025*\"hard\" + 0.024*\"cool\" + 0.023*\"exchange\" + 0.023*\"sadly\" + 0.021*\"suit\" + 0.021*\"maternity\"'),\n",
              " (8,\n",
              "  '0.083*\"picture\" + 0.074*\"model\" + 0.061*\"front\" + 0.040*\"wide\" + 0.037*\"comfy\" + 0.035*\"low\" + 0.034*\"know\" + 0.019*\"green\" + 0.018*\"hold\" + 0.018*\"otherwise\"'),\n",
              " (9,\n",
              "  '0.156*\"return\" + 0.059*\"tank\" + 0.058*\"unfortunately\" + 0.029*\"snug\" + 0.027*\"wedding\" + 0.026*\"less\" + 0.025*\"stay\" + 0.025*\"skin\" + 0.022*\"close\" + 0.021*\"underneath\"')]"
            ]
          },
          "metadata": {},
          "execution_count": 52
        }
      ]
    },
    {
      "cell_type": "markdown",
      "metadata": {
        "id": "y9ZOlWfRJMFB"
      },
      "source": [
        "How to interpret this?\n",
        "\n",
        "|Topic | representation\n",
        ":-----:|:--------------:|\n",
        "0 | '0.291*\"thank\" + 0.075*\"make\" + 0.059*\"century\" + 0.052*\"strength\" + 0.050*\"first\" + 0.017*\"freedom\" + 0.007*\"do\" + 0.001*\"high\" |\n",
        "1 | '0.080*\"take\" + 0.005*\"ceremony\"\n",
        "2 | 0.202*\"time\" + 0.000*\"troop\"\n",
        "3 | ???\n",
        "4 | 0.067*\"land\" + 0.011*\"principle\"\n",
        "5 | 0.225*\"people\" + 0.022*\"use\"\n",
        "6 | 0.336*\"nation\"\n",
        "7 | 0.022*\"protect\" + 0.021*\"bless\" + 0.015*\"story\" + 0.013*\"day\" + 0.012*\"world\" + 0.011*\"stand\" + 0.011*\"child\" + 0.010*\"let\" + 0.010*\"democracy\" + 0.009*\"know\"\n",
        "8 | ???\n",
        "9 | 0.179*\"today\" + 0.158*\"great\" + 0.082*\"year\" + 0.017*\"government\" + 0.000*\"troop\"\n",
        "\n",
        "<hr/>"
      ]
    },
    {
      "cell_type": "markdown",
      "metadata": {
        "id": "UqNrGJbJJMFC"
      },
      "source": [
        "# Visualize the topics-keywords\n",
        "\n"
      ]
    },
    {
      "cell_type": "code",
      "metadata": {
        "id": "VwiiQ6bEJMFD",
        "colab": {
          "base_uri": "https://localhost:8080/",
          "height": 952
        },
        "outputId": "fa670c44-25cb-499b-edb2-3c692988fd2a"
      },
      "source": [
        "# Visualize the topics\n",
        "pyLDAvis.enable_notebook()\n",
        "vis = pyLDAvis.gensim.prepare(lda_model, corpus, id2word)\n",
        "vis"
      ],
      "execution_count": null,
      "outputs": [
        {
          "output_type": "stream",
          "name": "stderr",
          "text": [
            "/usr/local/lib/python3.9/dist-packages/ipykernel/ipkernel.py:283: DeprecationWarning: `should_run_async` will not call `transform_cell` automatically in the future. Please pass the result to `transformed_cell` argument and any exception that happen during thetransform in `preprocessing_exc_tuple` in IPython 7.17 and above.\n",
            "  and should_run_async(code)\n",
            "/usr/local/lib/python3.9/dist-packages/pyLDAvis/_prepare.py:247: FutureWarning: In a future version of pandas all arguments of DataFrame.drop except for the argument 'labels' will be keyword-only.\n",
            "  default_term_info = default_term_info.sort_values(\n"
          ]
        },
        {
          "output_type": "execute_result",
          "data": {
            "text/plain": [
              "PreparedData(topic_coordinates=              x         y  topics  cluster       Freq\n",
              "topic                                                \n",
              "5      0.317968 -0.077908       1        1  48.111131\n",
              "1      0.272719 -0.206142       2        1  20.343072\n",
              "4      0.153256  0.423115       3        1  14.364430\n",
              "8     -0.075768 -0.005494       4        1   3.742502\n",
              "2     -0.078382 -0.006995       5        1   3.712984\n",
              "6     -0.098917 -0.018225       6        1   2.687772\n",
              "7     -0.116374 -0.025161       7        1   2.126936\n",
              "9     -0.116498 -0.025374       8        1   1.981074\n",
              "0     -0.120709 -0.026726       9        1   1.934028\n",
              "3     -0.137294 -0.031091      10        1   0.996072, topic_info=            Term          Freq         Total Category  logprob  loglift\n",
              "48          size  10831.000000  10831.000000  Default  30.0000  30.0000\n",
              "30           fit  10425.000000  10425.000000  Default  29.0000  29.0000\n",
              "49         small   5733.000000   5733.000000  Default  28.0000  28.0000\n",
              "7          dress  13153.000000  13153.000000  Default  27.0000  27.0000\n",
              "352      sweater   2518.000000   2518.000000  Default  26.0000  26.0000\n",
              "...          ...           ...           ...      ...      ...      ...\n",
              "860        enjoy     54.844221     55.735547  Topic10  -4.6265   4.5930\n",
              "1428     vintage     52.793611     53.684972  Topic10  -4.6646   4.5924\n",
              "1127       fresh     50.743261     51.634764  Topic10  -4.7042   4.5917\n",
              "2733  collection     40.094096     40.986026  Topic10  -4.9398   4.5871\n",
              "728      develop     39.956445     40.847868  Topic10  -4.9432   4.5870\n",
              "\n",
              "[349 rows x 6 columns], token_table=      Topic      Freq        Term\n",
              "term                             \n",
              "0         2  0.998928  absolutely\n",
              "872       9  0.991013  accentuate\n",
              "507      10  0.999015         add\n",
              "491       2  0.999100    adorable\n",
              "1864      8  0.995775       adore\n",
              "...     ...       ...         ...\n",
              "418       7  0.993725        wool\n",
              "55        1  0.999832        work\n",
              "1558      8  0.995971     worried\n",
              "1122     10  0.991417       worry\n",
              "419       7  0.998847       worth\n",
              "\n",
              "[343 rows x 3 columns], R=30, lambda_step=0.01, plot_opts={'xlab': 'PC1', 'ylab': 'PC2'}, topic_order=[6, 2, 5, 9, 3, 7, 8, 10, 1, 4])"
            ],
            "text/html": [
              "\n",
              "<link rel=\"stylesheet\" type=\"text/css\" href=\"https://cdn.jsdelivr.net/gh/bmabey/pyLDAvis/pyLDAvis/js/ldavis.v1.0.0.css\">\n",
              "\n",
              "\n",
              "<div id=\"ldavis_el1491406461490789285396054194\"></div>\n",
              "<script type=\"text/javascript\">\n",
              "\n",
              "var ldavis_el1491406461490789285396054194_data = {\"mdsDat\": {\"x\": [0.3179678119531096, 0.27271936643152755, 0.15325599143238205, -0.07576814641741489, -0.07838200958505781, -0.0989174092631608, -0.11637444741802813, -0.11649844018601613, -0.1207090310762969, -0.13729368587104407], \"y\": [-0.07790781310548796, -0.20614160553873123, 0.42311503132993805, -0.005494240712428371, -0.006994825902474433, -0.018224913513538155, -0.025160953309439578, -0.02537377108163385, -0.02672591560293547, -0.031090992563268884], \"topics\": [1, 2, 3, 4, 5, 6, 7, 8, 9, 10], \"cluster\": [1, 1, 1, 1, 1, 1, 1, 1, 1, 1], \"Freq\": [48.11113068959021, 20.343071877214154, 14.364429532861045, 3.742501698189245, 3.712983666658724, 2.6877718906846386, 2.1269360995652193, 1.9810735887292052, 1.9340284791252664, 0.996072477382296]}, \"tinfo\": {\"Term\": [\"size\", \"fit\", \"small\", \"dress\", \"sweater\", \"order\", \"love\", \"wear\", \"look\", \"return\", \"buy\", \"large\", \"run\", \"go\", \"try\", \"picture\", \"top\", \"model\", \"long\", \"color\", \"waist\", \"length\", \"shoulder\", \"great\", \"see\", \"medium\", \"petite\", \"big\", \"front\", \"want\", \"dress\", \"look\", \"top\", \"color\", \"great\", \"fabric\", \"get\", \"well\", \"make\", \"really\", \"soft\", \"nice\", \"love\", \"comfortable\", \"think\", \"feel\", \"work\", \"much\", \"material\", \"beautiful\", \"cute\", \"skirt\", \"also\", \"good\", \"back\", \"sleeve\", \"pretty\", \"quality\", \"even\", \"flattering\", \"wear\", \"little\", \"way\", \"order\", \"try\", \"petite\", \"shirt\", \"purchase\", \"find\", \"jean\", \"retailer\", \"store\", \"pant\", \"sale\", \"perfectly\", \"pair\", \"price\", \"online\", \"pattern\", \"legging\", \"long\", \"tall\", \"blouse\", \"absolutely\", \"glad\", \"lbs\", \"boot\", \"figure\", \"huge\", \"leg\", \"typically\", \"reference\", \"adorable\", \"length\", \"true\", \"buy\", \"see\", \"go\", \"still\", \"fit\", \"probably\", \"short\", \"perfect\", \"sure\", \"small\", \"large\", \"run\", \"waist\", \"medium\", \"big\", \"cut\", \"usually\", \"tight\", \"side\", \"however\", \"give\", \"arm\", \"chest\", \"normally\", \"bust\", \"stretch\", \"wash\", \"hip\", \"slightly\", \"always\", \"expect\", \"especially\", \"fine\", \"extra\", \"never\", \"knit\", \"pocket\", \"problem\", \"normal\", \"size\", \"want\", \"body\", \"bit\", \"say\", \"picture\", \"model\", \"front\", \"wide\", \"comfy\", \"low\", \"know\", \"green\", \"hold\", \"otherwise\", \"pink\", \"tshirt\", \"straight\", \"often\", \"highly_recommend\", \"roomy\", \"swing\", \"totally\", \"excellent\", \"somewhat\", \"lining\", \"sexy\", \"dd\", \"surprise\", \"fitting\", \"tummy\", \"rayon\", \"brown\", \"happen\", \"pop\", \"shoulder\", \"regular\", \"seem\", \"usual\", \"maybe\", \"boxy\", \"sell\", \"layer\", \"neckline\", \"already\", \"available\", \"seam\", \"help\", \"tunic\", \"tailor\", \"excited\", \"grey\", \"cozy\", \"hide\", \"simple\", \"instead\", \"immediately\", \"unflattering\", \"point\", \"basic\", \"half\", \"interesting\", \"itchy\", \"ton\", \"imagine\", \"sweater\", \"thick\", \"quite\", \"end\", \"coat\", \"arrive\", \"slim\", \"wait\", \"clothing\", \"base\", \"special\", \"substantial\", \"reason\", \"weather\", \"leave\", \"subtle\", \"month\", \"stiff\", \"closet\", \"thread\", \"star\", \"frumpy\", \"move\", \"previous\", \"movement\", \"live\", \"shapeless\", \"allow\", \"quickly\", \"positive\", \"worth\", \"disappoint\", \"elastic\", \"cheap\", \"hard\", \"cool\", \"exchange\", \"sadly\", \"suit\", \"maternity\", \"sit\", \"let\", \"stand\", \"awkward\", \"chic\", \"tts\", \"band\", \"else\", \"silky\", \"match\", \"completely\", \"waistband\", \"wool\", \"sort\", \"money\", \"pay\", \"crotch\", \"edge\", \"leather\", \"construction\", \"return\", \"tank\", \"unfortunately\", \"snug\", \"wedding\", \"less\", \"stay\", \"skin\", \"close\", \"underneath\", \"soon\", \"call\", \"clothe\", \"lay\", \"ruffle\", \"slimme\", \"deal\", \"adore\", \"mine\", \"hug\", \"sock\", \"worried\", \"husband\", \"anyway\", \"strange\", \"arm_hole\", \"realize\", \"certainly\", \"poor\", \"width\", \"like\", \"lace\", \"touch\", \"consider\", \"place\", \"curve\", \"throw\", \"complaint\", \"tend\", \"odd\", \"amount\", \"elegant\", \"depend\", \"bodice\", \"state\", \"sad\", \"rich\", \"become\", \"coverage\", \"stitch\", \"sweatshirt\", \"choose\", \"truly\", \"height\", \"cuff\", \"waistline\", \"accentuate\", \"ivory\", \"cost\", \"alter\", \"add\", \"neck\", \"hole\", \"though\", \"mean\", \"lose\", \"hot\", \"away\", \"silk\", \"airy\", \"snag\", \"worry\", \"remind\", \"washing\", \"mix\", \"rib\", \"everywhere\", \"early\", \"age\", \"hopefully\", \"bordeaux\", \"unlined\", \"concern\", \"perfection\", \"charming\", \"enjoy\", \"vintage\", \"fresh\", \"collection\", \"develop\"], \"Freq\": [10831.0, 10425.0, 5733.0, 13153.0, 2518.0, 4920.0, 10299.0, 9933.0, 9505.0, 1741.0, 4425.0, 3507.0, 3294.0, 4129.0, 3796.0, 1756.0, 7967.0, 1566.0, 3237.0, 6921.0, 2457.0, 2952.0, 1386.0, 6310.0, 2929.0, 2284.0, 2735.0, 2199.0, 1280.0, 2134.0, 13152.431911000913, 9504.775417433135, 7966.220300737291, 6921.0691830951055, 6309.400714315842, 5350.760932596684, 4965.216976897563, 4481.314117937322, 4080.1531893285346, 3555.098633903939, 3513.1641229366883, 3306.429516799808, 10297.185320764722, 3236.367366757652, 3259.279938963943, 3188.1300144869842, 3128.6484618839977, 3116.023120703041, 3104.436911587583, 3080.0801902822604, 2779.363485989633, 2740.6139160633, 2600.3378921120393, 2497.106182798447, 2468.1390217952917, 2432.3137907862474, 2287.5513273739293, 2273.2431618414485, 2227.2801553770046, 2170.950527491729, 9925.237033302625, 3994.3346921268417, 2292.670117635941, 4919.6356830062705, 3795.7075285262176, 2734.953964831641, 2462.973970773831, 2383.330515008791, 2271.1157113899917, 2229.281652705927, 2103.536500737431, 2008.5052096835993, 1945.9109903192548, 1644.1257373916874, 1622.5770772356552, 1580.5742142307915, 1576.2982643774217, 1561.082323892575, 1233.3476693775403, 985.5526241676345, 3234.573405863453, 854.2223830283099, 776.1489459855998, 774.9537815551955, 714.6161477293093, 706.1718288065638, 662.9344243532811, 659.9609000091567, 625.6643165812725, 612.6150179184989, 585.3150219120635, 562.7242828097354, 548.6162805327086, 2936.269742052364, 1750.895749117645, 4353.228556686225, 2888.8568284479547, 3946.3760416777286, 1780.1146687367486, 8355.427675723926, 827.052507019157, 2216.75667049412, 2403.1669409335873, 880.9042824055572, 5732.276784566047, 3506.9897405546976, 3293.8920426281106, 2456.3784125297375, 2283.257000668741, 2198.267115798638, 2075.610033009497, 1878.776334158818, 1812.804859578741, 1454.427998125929, 1451.6123342965698, 1278.3336522072514, 1042.7712942697287, 1002.5958243312341, 939.1326217706136, 899.4280595301286, 880.7500753228442, 861.5352653696981, 821.2777741159541, 784.3974540809184, 728.9977745473558, 703.9488411147605, 631.856770443166, 625.092946642702, 595.3409185185985, 552.9420313210845, 545.9826732200008, 539.3348079945821, 513.6881348209928, 495.9585126651651, 10792.533820070004, 2114.9623550878878, 944.6573217195074, 1216.5089947287915, 816.3298570857635, 1755.8011571300779, 1565.7723153845843, 1279.3865591249967, 832.9779761917265, 776.3077114280186, 743.7607689379407, 723.8866245054691, 408.49115613957645, 382.1861934748328, 381.20565318365976, 340.9251584014894, 314.56010544217935, 289.71564081780315, 279.3897167573811, 278.1508176075469, 258.9987565810054, 255.30584038021695, 245.77767624677782, 218.4164771644921, 201.0605767992877, 179.94910164228853, 179.61510547320736, 175.58121361072253, 174.87395182394147, 169.31590345894978, 163.47721479328234, 160.23543652667598, 160.02433628304007, 150.12851365237282, 147.09523792498797, 1385.410161955547, 1155.7965444845665, 1144.6096778690203, 959.5837200373405, 640.4675449737132, 640.0913298363937, 527.1141691779942, 487.04467011245276, 443.19434701671025, 413.4077245593705, 346.2311682183422, 327.7625488906529, 313.46433135065473, 308.9923856029873, 292.0646494920515, 284.83212646207954, 274.97745667055085, 268.0826364228217, 254.8039654060823, 251.80249139770496, 245.37689946001063, 243.83020048862696, 224.05970795387205, 211.54910556201477, 210.3255797116404, 202.93305535194096, 197.2420185099383, 182.4886744060823, 180.75762184812467, 162.01587601034137, 2517.2611907836344, 708.359638988388, 646.7444870632164, 553.7842109539538, 475.3716697504097, 358.3048804599535, 342.9278023371182, 321.55329794662873, 287.97212072002094, 267.79084440799716, 265.7367056360509, 262.85285756563826, 261.40365414359877, 253.36814036316628, 238.0749793496654, 227.964065918915, 174.79536816898025, 168.23259965736702, 167.715256310341, 158.67515898682248, 158.57006547942783, 143.32267871465953, 139.54059373317477, 130.76738379345392, 128.7228053767489, 127.40240626950661, 123.72148646093594, 119.6063096916115, 118.62939345051238, 118.03326517307015, 594.802895877512, 476.58889848871576, 406.4465158933206, 350.7275118896246, 300.5745787497997, 292.57347305311004, 274.27104600052076, 270.9435973750574, 254.30183056307226, 246.99173441256892, 242.33311914996838, 230.23551615006258, 196.37618209189884, 188.7645366757309, 181.4475547195011, 171.5696101370541, 171.5051086332508, 164.27921318481026, 162.66167279559986, 161.1822384937347, 160.94200409686084, 154.13917344362, 142.01277930779645, 141.23503980728213, 137.42228672514986, 133.12181135488814, 131.26308949196445, 129.79084183199828, 124.79242654150192, 121.2281864220279, 1740.14813604842, 654.1048783206536, 649.2774197813122, 328.3215819996117, 299.2056859927581, 286.9626897302649, 278.4129643037493, 278.3841550560319, 240.12557786704994, 233.5776800380496, 214.6860781151982, 208.82281503832905, 189.60810536388064, 175.22174673428646, 174.73892200777212, 156.8743137250018, 143.01172091783158, 139.7084023451757, 129.94183905361706, 127.32252217685651, 122.63467848245105, 121.60784051193616, 121.35461801759023, 118.61325620093181, 112.19038178952924, 106.5811714446924, 103.8080322805878, 103.57654125768286, 102.87120245324758, 102.69491185851585, 780.0844363819624, 578.5704803079311, 361.8405984935593, 348.0490027113236, 339.9632372404007, 324.41864491039917, 259.6387032447339, 246.5367601985719, 245.27151540664656, 243.31564525248814, 235.80449921125756, 224.90865466177712, 223.58770675918723, 196.05328834399538, 194.13464140347494, 183.69406694872356, 181.3391769127152, 176.8674876192754, 157.05486986098103, 154.2362701720072, 149.37738448346636, 132.21328854606193, 128.8392787940418, 125.6760047098685, 115.8781233844375, 113.84407840272593, 112.13297570046713, 110.94192404775534, 110.89511641383936, 108.98670231103647, 618.7189689013701, 512.1581651951628, 257.0074246635126, 249.75258941883266, 218.53303307790839, 190.81848044195627, 183.01657082589898, 169.16312450857714, 145.89830211499185, 140.36484866298633, 136.96574917228943, 131.24268459797733, 129.22562049321576, 122.26711459070626, 108.15778874738767, 96.26079442638135, 88.57226117846423, 85.34949303941316, 81.63954255556395, 74.40716029837053, 74.12459078143873, 73.06755234475055, 72.67838462159935, 57.45360500463893, 56.351749298714935, 54.84422138453171, 52.79361085714618, 50.74326122898778, 40.09409573148281, 39.95644529925079], \"Total\": [10831.0, 10425.0, 5733.0, 13153.0, 2518.0, 4920.0, 10299.0, 9933.0, 9505.0, 1741.0, 4425.0, 3507.0, 3294.0, 4129.0, 3796.0, 1756.0, 7967.0, 1566.0, 3237.0, 6921.0, 2457.0, 2952.0, 1386.0, 6310.0, 2929.0, 2284.0, 2735.0, 2199.0, 1280.0, 2134.0, 13153.308176899756, 9505.750523860934, 7967.096528574002, 6921.945419199745, 6310.276960333216, 5351.637179030515, 4966.093220139722, 4482.190371775169, 4081.029432260168, 3555.974857053242, 3514.0403581605387, 3307.3057556472827, 10299.962521097845, 3237.2435998888004, 3260.1624712783687, 3189.006274545867, 3129.5247074790964, 3116.8993732375097, 3105.3131597290726, 3080.9564262759977, 2780.23971637002, 2741.490174465075, 2601.2141311638584, 2497.9824371240275, 2469.015246898827, 2433.1900829466367, 2288.4275550708257, 2274.1193894985527, 2228.1563873161617, 2171.826771155198, 9933.672374919019, 4065.3075433393037, 2312.7933835231192, 4920.571357465661, 3796.5855999361684, 2735.832029017438, 2463.85201084278, 2384.2085701042197, 2271.9937917231937, 2230.159689020852, 2104.4145471052543, 2009.3832428385215, 1946.7890326155407, 1645.0038281376878, 1623.4551395300227, 1581.4522752217656, 1577.1763288780974, 1561.960389011597, 1234.2257398883633, 986.4306933198741, 3237.8589065018327, 855.1004501677919, 777.0269647763963, 775.8318419354005, 715.4942429742534, 707.0499038306996, 663.8124960756445, 660.8389951640281, 626.542403432363, 613.4930585306918, 586.1931335473009, 563.6023383277737, 549.4943376116219, 2952.210353971234, 1753.822474857413, 4425.885721927798, 2929.512997857829, 4129.652273968134, 1866.796785959321, 10425.318283435934, 851.7700530045454, 2899.4873866073494, 3567.730135793684, 963.0967222454067, 5733.15433506799, 3507.8672764099842, 3294.769577294586, 2457.2559796302194, 2284.1345339497825, 2199.144660939098, 2076.4876252764097, 1879.6538685815497, 1813.6824246161243, 1455.3055522174946, 1452.489873044232, 1279.2112118660598, 1043.6488226849635, 1003.4733661519666, 940.0101706077118, 900.3056117420649, 881.6276322311329, 862.4128068864892, 822.1552993172321, 785.27501211243, 729.875361371811, 704.8263702381325, 632.7343639009229, 625.9704825539437, 596.2184329940292, 553.8196610461168, 546.8602561541182, 540.2123156521147, 514.5656786469831, 496.83605899404625, 10831.496139195446, 2134.193743211226, 964.566899608921, 2860.744420624729, 1565.1709715226887, 1756.6779165017908, 1566.649090668045, 1280.263318794354, 833.8547438135517, 777.184473609484, 744.6375335324924, 724.763392343167, 409.36785775107245, 383.0629957388568, 382.08245071222683, 341.80189022594607, 315.4368604619215, 290.5924182062334, 280.2665330646236, 279.0275551419122, 259.8755343862156, 256.18258247977974, 246.65445127286316, 219.29327976269846, 201.93733925851018, 180.82583754584087, 180.49187514218755, 176.45800654394247, 175.7507345470103, 170.1926471507327, 164.35401910876365, 161.11234356974853, 160.90108774775555, 151.00528008737712, 147.97198572320102, 1386.2873836970723, 1156.673747869912, 1145.486877698827, 960.4609340637996, 641.3447906244315, 640.9685040057701, 527.9913920806521, 487.92188187928423, 444.0715976911797, 414.284952461921, 347.10841872539794, 328.6397797585112, 314.34158743167296, 309.8695299410298, 292.94190424548486, 285.7093360364739, 275.85466472044044, 268.95987184859575, 255.68114438532135, 252.6797034713249, 246.2541109154727, 244.7074208899807, 224.93691681089547, 212.42632555452354, 211.20275028449436, 203.81037779692767, 198.11922791864225, 183.36580972346135, 181.63483208920255, 162.89310154831853, 2518.144427335211, 709.2428933081429, 647.6277165424408, 554.6674468240739, 476.2549089191636, 359.18811233299243, 343.8110809834211, 322.4365150804017, 288.8553950348986, 268.67413858489, 266.61995727795926, 263.7361387815906, 262.28690892825637, 254.25138186120378, 238.9581974597063, 228.8473933619999, 175.67861301919038, 169.11583239372348, 168.59846772543776, 159.55838683635068, 159.4532976523022, 144.2059436805883, 140.42379795483615, 131.65062401227172, 129.60605606745145, 128.28564949259797, 124.60471662427108, 120.4895247200988, 119.51275705207193, 118.91685967379325, 595.6867769969712, 477.4728005590616, 407.3305136121188, 351.61144545186147, 301.4584580645077, 293.45734671942415, 275.1549401776897, 271.82747551669604, 255.18565515329252, 247.87570637680375, 243.2170163767625, 231.11950932973969, 197.2600623516959, 189.64847952592405, 182.33155696373032, 172.45356626858504, 172.38896815195585, 165.1631154247349, 163.54569472258908, 162.06614028308968, 161.8258463311314, 155.02304006589154, 142.89669643878923, 142.11892525541364, 138.30616147952176, 134.00574217275033, 132.1473287716619, 130.67477651319024, 125.67630121269023, 122.11210338737177, 1741.0337733458268, 654.9904530102954, 650.1630758125273, 329.207228591165, 300.09136066455795, 287.84833138403627, 279.2986041523013, 279.2698130097764, 241.01121846879116, 234.4633011527525, 215.5717669363811, 209.70848889532508, 190.4937443294136, 176.10743108916304, 175.62459074014905, 157.76001426133237, 143.89742080219182, 140.59407805367604, 130.82743570068857, 128.20815627050553, 123.52044603564944, 122.49348137657314, 122.24027634745552, 119.49893584895682, 113.07595653175851, 107.46681654642671, 104.69359553416074, 104.46248931654557, 103.75685675465125, 103.5806096144352, 780.9671487343137, 579.4531813364779, 362.72332829551885, 348.9317439782771, 340.84594803788076, 325.30137490513835, 260.52143541418997, 247.41953136816184, 246.15434742837348, 244.1983593267935, 236.6872322565298, 225.7913765756953, 224.47041421689937, 196.93600929550004, 195.0174196583425, 184.5767894629627, 182.2218492834003, 177.75025101803755, 157.93762243449453, 155.1189486692151, 150.26007002413684, 133.09603842961255, 129.72193411060914, 126.55881590771885, 116.76082321987442, 114.7268213900213, 113.01570371546694, 111.82461018087251, 111.7779337883513, 109.86943933732191, 619.6103075467341, 513.0495459768966, 257.8987566623706, 250.64398179384114, 219.42437683486247, 191.70989122995363, 183.90787466034882, 170.05444398625937, 146.78966209796064, 141.25629258894884, 137.857117009724, 132.13407154216137, 130.11706893063993, 123.15842592993906, 109.0491236449564, 97.15226152242714, 89.463595344637, 86.24081654528838, 82.53096907567442, 75.29858130286955, 75.02081779203951, 73.95909961161159, 73.56974833912078, 58.34499383168612, 57.24337423078875, 55.73554673203101, 53.684971760271004, 51.63476419788847, 40.986025644391674, 40.84786841990392], \"Category\": [\"Default\", \"Default\", \"Default\", \"Default\", \"Default\", \"Default\", \"Default\", \"Default\", \"Default\", \"Default\", \"Default\", \"Default\", \"Default\", \"Default\", \"Default\", \"Default\", \"Default\", \"Default\", \"Default\", \"Default\", \"Default\", \"Default\", \"Default\", \"Default\", \"Default\", \"Default\", \"Default\", \"Default\", \"Default\", \"Default\", \"Topic1\", \"Topic1\", \"Topic1\", \"Topic1\", \"Topic1\", \"Topic1\", \"Topic1\", \"Topic1\", \"Topic1\", \"Topic1\", \"Topic1\", \"Topic1\", \"Topic1\", \"Topic1\", \"Topic1\", \"Topic1\", \"Topic1\", \"Topic1\", \"Topic1\", \"Topic1\", \"Topic1\", \"Topic1\", \"Topic1\", \"Topic1\", \"Topic1\", \"Topic1\", \"Topic1\", \"Topic1\", \"Topic1\", \"Topic1\", \"Topic1\", \"Topic1\", \"Topic1\", \"Topic2\", \"Topic2\", \"Topic2\", \"Topic2\", \"Topic2\", \"Topic2\", \"Topic2\", \"Topic2\", \"Topic2\", \"Topic2\", \"Topic2\", \"Topic2\", \"Topic2\", \"Topic2\", \"Topic2\", \"Topic2\", \"Topic2\", \"Topic2\", \"Topic2\", \"Topic2\", \"Topic2\", \"Topic2\", \"Topic2\", \"Topic2\", \"Topic2\", \"Topic2\", \"Topic2\", \"Topic2\", \"Topic2\", \"Topic2\", \"Topic2\", \"Topic2\", \"Topic2\", \"Topic2\", \"Topic2\", \"Topic2\", \"Topic2\", \"Topic2\", \"Topic2\", \"Topic2\", \"Topic2\", \"Topic3\", \"Topic3\", \"Topic3\", \"Topic3\", \"Topic3\", \"Topic3\", \"Topic3\", \"Topic3\", \"Topic3\", \"Topic3\", \"Topic3\", \"Topic3\", \"Topic3\", \"Topic3\", \"Topic3\", \"Topic3\", \"Topic3\", \"Topic3\", \"Topic3\", \"Topic3\", \"Topic3\", \"Topic3\", \"Topic3\", \"Topic3\", \"Topic3\", \"Topic3\", \"Topic3\", \"Topic3\", \"Topic3\", \"Topic3\", \"Topic3\", \"Topic3\", \"Topic3\", \"Topic3\", \"Topic3\", \"Topic4\", \"Topic4\", \"Topic4\", \"Topic4\", \"Topic4\", \"Topic4\", \"Topic4\", \"Topic4\", \"Topic4\", \"Topic4\", \"Topic4\", \"Topic4\", \"Topic4\", \"Topic4\", \"Topic4\", \"Topic4\", \"Topic4\", \"Topic4\", \"Topic4\", \"Topic4\", \"Topic4\", \"Topic4\", \"Topic4\", \"Topic4\", \"Topic4\", \"Topic4\", \"Topic4\", \"Topic4\", \"Topic4\", \"Topic4\", \"Topic5\", \"Topic5\", \"Topic5\", \"Topic5\", \"Topic5\", \"Topic5\", \"Topic5\", \"Topic5\", \"Topic5\", \"Topic5\", \"Topic5\", \"Topic5\", \"Topic5\", \"Topic5\", \"Topic5\", \"Topic5\", \"Topic5\", \"Topic5\", \"Topic5\", \"Topic5\", \"Topic5\", \"Topic5\", \"Topic5\", \"Topic5\", \"Topic5\", \"Topic5\", \"Topic5\", \"Topic5\", \"Topic5\", \"Topic5\", \"Topic6\", \"Topic6\", \"Topic6\", \"Topic6\", \"Topic6\", \"Topic6\", \"Topic6\", \"Topic6\", \"Topic6\", \"Topic6\", \"Topic6\", \"Topic6\", \"Topic6\", \"Topic6\", \"Topic6\", \"Topic6\", \"Topic6\", \"Topic6\", \"Topic6\", \"Topic6\", \"Topic6\", \"Topic6\", \"Topic6\", \"Topic6\", \"Topic6\", \"Topic6\", \"Topic6\", \"Topic6\", \"Topic6\", \"Topic6\", \"Topic7\", \"Topic7\", \"Topic7\", \"Topic7\", \"Topic7\", \"Topic7\", \"Topic7\", \"Topic7\", \"Topic7\", \"Topic7\", \"Topic7\", \"Topic7\", \"Topic7\", \"Topic7\", \"Topic7\", \"Topic7\", \"Topic7\", \"Topic7\", \"Topic7\", \"Topic7\", \"Topic7\", \"Topic7\", \"Topic7\", \"Topic7\", \"Topic7\", \"Topic7\", \"Topic7\", \"Topic7\", \"Topic7\", \"Topic7\", \"Topic8\", \"Topic8\", \"Topic8\", \"Topic8\", \"Topic8\", \"Topic8\", \"Topic8\", \"Topic8\", \"Topic8\", \"Topic8\", \"Topic8\", \"Topic8\", \"Topic8\", \"Topic8\", \"Topic8\", \"Topic8\", \"Topic8\", \"Topic8\", \"Topic8\", \"Topic8\", \"Topic8\", \"Topic8\", \"Topic8\", \"Topic8\", \"Topic8\", \"Topic8\", \"Topic8\", \"Topic8\", \"Topic8\", \"Topic8\", \"Topic9\", \"Topic9\", \"Topic9\", \"Topic9\", \"Topic9\", \"Topic9\", \"Topic9\", \"Topic9\", \"Topic9\", \"Topic9\", \"Topic9\", \"Topic9\", \"Topic9\", \"Topic9\", \"Topic9\", \"Topic9\", \"Topic9\", \"Topic9\", \"Topic9\", \"Topic9\", \"Topic9\", \"Topic9\", \"Topic9\", \"Topic9\", \"Topic9\", \"Topic9\", \"Topic9\", \"Topic9\", \"Topic9\", \"Topic9\", \"Topic10\", \"Topic10\", \"Topic10\", \"Topic10\", \"Topic10\", \"Topic10\", \"Topic10\", \"Topic10\", \"Topic10\", \"Topic10\", \"Topic10\", \"Topic10\", \"Topic10\", \"Topic10\", \"Topic10\", \"Topic10\", \"Topic10\", \"Topic10\", \"Topic10\", \"Topic10\", \"Topic10\", \"Topic10\", \"Topic10\", \"Topic10\", \"Topic10\", \"Topic10\", \"Topic10\", \"Topic10\", \"Topic10\", \"Topic10\"], \"logprob\": [30.0, 29.0, 28.0, 27.0, 26.0, 25.0, 24.0, 23.0, 22.0, 21.0, 20.0, 19.0, 18.0, 17.0, 16.0, 15.0, 14.0, 13.0, 12.0, 11.0, 10.0, 9.0, 8.0, 7.0, 6.0, 5.0, 4.0, 3.0, 2.0, 1.0, -3.0241, -3.3489, -3.5255, -3.6661, -3.7587, -3.9235, -3.9983, -4.1008, -4.1946, -4.3323, -4.3442, -4.4048, -3.2688, -4.4263, -4.4192, -4.4413, -4.4601, -4.4642, -4.4679, -4.4758, -4.5785, -4.5925, -4.6451, -4.6856, -4.6972, -4.7119, -4.7732, -4.7795, -4.7999, -4.8255, -3.3056, -4.2158, -4.771, -3.1467, -3.4061, -3.7338, -3.8386, -3.8714, -3.9197, -3.9383, -3.9963, -4.0425, -4.0742, -4.2427, -4.2559, -4.2821, -4.2849, -4.2946, -4.5302, -4.7545, -3.566, -4.8975, -4.9933, -4.9949, -5.0759, -5.0878, -5.151, -5.1555, -5.2089, -5.23, -5.2755, -5.3149, -5.3403, -3.6628, -4.1798, -3.269, -3.6791, -3.3671, -4.1633, -2.617, -4.9298, -3.9439, -3.8631, -4.8667, -2.6458, -3.1372, -3.1999, -3.4933, -3.5663, -3.6043, -3.6617, -3.7613, -3.7971, -4.0173, -4.0193, -4.1464, -4.3501, -4.3894, -4.4547, -4.4979, -4.5189, -4.541, -4.5888, -4.6348, -4.708, -4.743, -4.851, -4.8618, -4.9106, -4.9845, -4.9971, -5.0094, -5.0581, -5.0932, -2.0131, -3.6429, -4.4489, -4.196, -4.5949, -2.484, -2.5986, -2.8006, -3.2297, -3.3002, -3.343, -3.3701, -3.9422, -4.0088, -4.0114, -4.123, -4.2035, -4.2858, -4.3221, -4.3265, -4.3979, -4.4122, -4.4503, -4.5683, -4.6511, -4.762, -4.7639, -4.7866, -4.7906, -4.8229, -4.858, -4.8781, -4.8794, -4.9432, -4.9636, -2.713, -2.8942, -2.904, -3.0803, -3.4846, -3.4852, -3.6794, -3.7584, -3.8528, -3.9224, -4.0997, -4.1545, -4.1991, -4.2135, -4.2698, -4.2949, -4.3301, -4.3555, -4.4063, -4.4181, -4.444, -4.4503, -4.5349, -4.5923, -4.5981, -4.6339, -4.6624, -4.7401, -4.7496, -4.8591, -1.7927, -3.0607, -3.1517, -3.3069, -3.4596, -3.7423, -3.7861, -3.8505, -3.9608, -4.0335, -4.0412, -4.0521, -4.0576, -4.0888, -4.1511, -4.1945, -4.46, -4.4983, -4.5014, -4.5568, -4.5575, -4.6586, -4.6853, -4.7502, -4.766, -4.7763, -4.8056, -4.8395, -4.8477, -4.8527, -3.0014, -3.223, -3.3822, -3.5296, -3.6839, -3.7109, -3.7755, -3.7877, -3.8511, -3.8803, -3.8993, -3.9505, -4.1096, -4.1491, -4.1887, -4.2446, -4.245, -4.2881, -4.298, -4.3071, -4.3086, -4.3518, -4.4337, -4.4392, -4.4666, -4.4984, -4.5124, -4.5237, -4.563, -4.592, -1.8569, -2.8353, -2.8427, -3.5246, -3.6175, -3.6592, -3.6895, -3.6896, -3.8374, -3.8651, -3.9494, -3.9771, -4.0736, -4.1525, -4.1553, -4.2631, -4.3557, -4.379, -4.4515, -4.4719, -4.5094, -4.5178, -4.5199, -4.5427, -4.5984, -4.6497, -4.676, -4.6783, -4.6851, -4.6868, -2.6352, -2.934, -3.4034, -3.4422, -3.4657, -3.5125, -3.7353, -3.787, -3.7922, -3.8002, -3.8316, -3.8789, -3.8848, -4.0162, -4.026, -4.0813, -4.0942, -4.1192, -4.238, -4.2561, -4.2881, -4.4101, -4.436, -4.4608, -4.542, -4.5597, -4.5749, -4.5855, -4.586, -4.6033, -2.2034, -2.3924, -3.0819, -3.1105, -3.2441, -3.3797, -3.4214, -3.5002, -3.6481, -3.6868, -3.7113, -3.754, -3.7695, -3.8248, -3.9474, -4.064, -4.1472, -4.1843, -4.2287, -4.3215, -4.3253, -4.3396, -4.345, -4.58, -4.5994, -4.6265, -4.6646, -4.7042, -4.9398, -4.9432], \"loglift\": [30.0, 29.0, 28.0, 27.0, 26.0, 25.0, 24.0, 23.0, 22.0, 21.0, 20.0, 19.0, 18.0, 17.0, 16.0, 15.0, 14.0, 13.0, 12.0, 11.0, 10.0, 9.0, 8.0, 7.0, 6.0, 5.0, 4.0, 3.0, 2.0, 1.0, 0.7316, 0.7316, 0.7315, 0.7315, 0.7315, 0.7315, 0.7315, 0.7315, 0.7314, 0.7314, 0.7314, 0.7314, 0.7314, 0.7314, 0.7314, 0.7314, 0.7314, 0.7314, 0.7314, 0.7314, 0.7313, 0.7313, 0.7313, 0.7313, 0.7313, 0.7313, 0.7313, 0.7313, 0.7313, 0.7313, 0.7308, 0.714, 0.7229, 1.5922, 1.5922, 1.5921, 1.5921, 1.5921, 1.592, 1.592, 1.592, 1.592, 1.592, 1.5919, 1.5919, 1.5919, 1.5919, 1.5919, 1.5917, 1.5915, 1.5914, 1.5914, 1.5913, 1.5913, 1.5912, 1.5912, 1.5911, 1.5911, 1.591, 1.591, 1.5909, 1.5909, 1.5908, 1.587, 1.5908, 1.5759, 1.5785, 1.547, 1.5449, 1.3711, 1.563, 1.3239, 1.1973, 1.5032, 1.9403, 1.9402, 1.9401, 1.9401, 1.94, 1.94, 1.94, 1.9399, 1.9399, 1.9398, 1.9398, 1.9397, 1.9396, 1.9395, 1.9395, 1.9394, 1.9394, 1.9394, 1.9393, 1.9393, 1.9392, 1.9392, 1.939, 1.939, 1.9389, 1.9388, 1.9388, 1.9388, 1.9387, 1.9386, 1.9368, 1.9314, 1.9196, 1.0853, 1.2895, 3.2849, 3.2849, 3.2847, 3.2844, 3.2843, 3.2842, 3.2842, 3.2833, 3.2831, 3.2831, 3.2828, 3.2826, 3.2824, 3.2823, 3.2823, 3.282, 3.282, 3.2819, 3.2814, 3.2811, 3.2806, 3.2805, 3.2804, 3.2804, 3.2803, 3.2801, 3.28, 3.28, 3.2796, 3.2795, 3.2927, 3.2926, 3.2926, 3.2924, 3.292, 3.292, 3.2917, 3.2915, 3.2914, 3.2912, 3.2908, 3.2907, 3.2905, 3.2905, 3.2903, 3.2903, 3.2901, 3.2901, 3.2899, 3.2899, 3.2898, 3.2897, 3.2894, 3.2892, 3.2892, 3.289, 3.2889, 3.2885, 3.2885, 3.2879, 3.6161, 3.6152, 3.6151, 3.6149, 3.6146, 3.614, 3.6139, 3.6137, 3.6134, 3.6132, 3.6131, 3.6131, 3.6131, 3.613, 3.6128, 3.6126, 3.6114, 3.6112, 3.6112, 3.6109, 3.6109, 3.6103, 3.6101, 3.6097, 3.6096, 3.6095, 3.6093, 3.6091, 3.609, 3.609, 3.849, 3.8486, 3.8483, 3.848, 3.8476, 3.8475, 3.8473, 3.8472, 3.847, 3.8469, 3.8468, 3.8467, 3.846, 3.8458, 3.8456, 3.8453, 3.8453, 3.8451, 3.8451, 3.845, 3.845, 3.8448, 3.8443, 3.8442, 3.8441, 3.8439, 3.8438, 3.8437, 3.8434, 3.8432, 3.921, 3.9202, 3.9202, 3.9188, 3.9186, 3.9184, 3.9184, 3.9184, 3.9178, 3.9177, 3.9174, 3.9173, 3.9169, 3.9165, 3.9165, 3.9159, 3.9154, 3.9152, 3.9147, 3.9146, 3.9143, 3.9143, 3.9143, 3.9141, 3.9137, 3.9133, 3.913, 3.913, 3.913, 3.9129, 3.9444, 3.944, 3.9431, 3.943, 3.943, 3.9428, 3.9422, 3.942, 3.942, 3.9419, 3.9418, 3.9416, 3.9416, 3.9411, 3.941, 3.9408, 3.9407, 3.9406, 3.94, 3.9399, 3.9397, 3.9389, 3.9387, 3.9386, 3.938, 3.9378, 3.9377, 3.9376, 3.9376, 3.9375, 4.6077, 4.6074, 4.6056, 4.6055, 4.605, 4.6044, 4.6042, 4.6039, 4.603, 4.6028, 4.6026, 4.6023, 4.6022, 4.6018, 4.6009, 4.5999, 4.5991, 4.5987, 4.5982, 4.5972, 4.5971, 4.597, 4.5969, 4.5937, 4.5934, 4.593, 4.5924, 4.5917, 4.5871, 4.587]}, \"token.table\": {\"Topic\": [2, 9, 10, 2, 8, 10, 10, 6, 5, 1, 9, 3, 9, 8, 3, 8, 6, 5, 10, 7, 1, 7, 6, 5, 1, 9, 3, 1, 3, 2, 9, 1, 3, 2, 10, 5, 4, 3, 1, 2, 8, 8, 10, 7, 3, 7, 9, 8, 6, 8, 6, 6, 10, 1, 1, 4, 9, 7, 10, 9, 7, 7, 9, 9, 5, 7, 9, 9, 3, 1, 4, 8, 9, 10, 7, 1, 10, 7, 7, 9, 7, 6, 10, 3, 1, 10, 4, 7, 5, 3, 3, 1, 1, 2, 2, 3, 1, 2, 3, 4, 1, 10, 4, 6, 1, 3, 2, 1, 2, 1, 1, 4, 5, 5, 4, 7, 9, 5, 5, 4, 3, 4, 10, 10, 10, 3, 8, 2, 8, 5, 5, 5, 5, 5, 9, 2, 3, 4, 9, 3, 8, 5, 2, 7, 6, 2, 2, 1, 2, 8, 7, 9, 4, 1, 3, 6, 1, 2, 1, 10, 1, 2, 4, 1, 7, 1, 7, 5, 10, 3, 8, 10, 4, 7, 6, 6, 6, 1, 10, 5, 3, 1, 3, 3, 9, 4, 2, 2, 4, 2, 2, 2, 7, 1, 2, 10, 2, 2, 4, 4, 9, 3, 5, 8, 4, 6, 1, 6, 2, 1, 2, 3, 2, 1, 6, 6, 4, 8, 1, 6, 2, 5, 10, 2, 8, 10, 9, 4, 8, 3, 9, 7, 2, 1, 2, 3, 5, 1, 2, 5, 5, 4, 6, 2, 1, 2, 5, 3, 10, 7, 5, 7, 2, 3, 8, 1, 1, 3, 6, 8, 3, 10, 8, 8, 1, 4, 8, 7, 6, 7, 6, 9, 8, 6, 1, 2, 9, 2, 4, 8, 3, 6, 6, 7, 1, 2, 4, 6, 9, 4, 5, 2, 8, 9, 6, 1, 10, 6, 9, 3, 5, 1, 4, 9, 1, 2, 9, 2, 4, 7, 4, 5, 2, 8, 5, 8, 10, 5, 3, 10, 3, 7, 9, 6, 1, 3, 3, 10, 1, 2, 3, 1, 2, 6, 8, 1, 4, 8, 7, 1, 8, 10, 7], \"Freq\": [0.9989278064002564, 0.9910127205151585, 0.9990150138896969, 0.999100377241792, 0.9957745158124709, 0.993566426256457, 0.9911062893841862, 0.9959372010036891, 0.9968983849056426, 0.999533244437929, 0.9920866135063041, 0.9988006700621244, 0.9970964540419952, 0.9958247674306702, 0.9993783132114361, 0.9956561796335984, 0.9966922281328426, 0.9968067074562232, 0.9937993741207694, 0.9965806236488418, 0.9995888049293732, 0.997743659840153, 0.9974908690935396, 0.9943052337960835, 0.9996895683860243, 0.995779184480806, 0.9994794972066053, 0.5743260349140877, 0.4254137458858459, 0.9986783408775372, 0.9952471399270838, 0.019697959786618698, 0.9797143157028774, 0.998776015696529, 0.9863928730439963, 0.9984889990698179, 0.9943997411057395, 0.9985498127246607, 0.016267930200565304, 0.9835319467091774, 0.9966215535715451, 0.9955726757080801, 0.978279158985705, 0.9982610194867926, 0.999528272330952, 0.9926970570212638, 0.9917650559509915, 0.9958042680535134, 0.996450337102634, 0.9974080811359359, 0.9970386738499544, 0.9973650478017927, 0.9759423942944173, 0.9998634171258961, 0.999615846058405, 0.9984759427784462, 0.9983043724727715, 0.994896696974836, 0.9922556709519446, 0.9973297242387466, 0.9908927669205411, 0.9984415223386401, 0.9930403634958551, 0.9940633370311535, 0.9964311707839596, 0.9913178057980697, 0.9934839169603857, 0.9959994792351621, 0.9997651682242292, 0.9995540973094081, 0.9974044445309518, 0.9937634684681009, 0.9979043375558401, 0.9792432640257238, 0.9990097853563428, 0.9999005438873504, 0.9856121892742425, 0.9948362145228378, 0.9967335773587888, 0.9964950983173178, 0.9929577773963404, 0.9987966720818113, 0.986802915281922, 0.9988393804053958, 0.9994810116010059, 0.9948180559606272, 0.9941025107376845, 0.9958025824397561, 0.9975172808620318, 0.9988275548801425, 0.9979563983154452, 0.99988093755066, 0.9996844551376712, 0.998730409116036, 0.9995625904759009, 0.9984496352767559, 0.19644484171326695, 0.8014143811105202, 0.0020143269902239288, 0.9929923697016333, 0.999619319935559, 0.9877066505919199, 0.9990132351870054, 0.9916373510702207, 0.999779863145684, 0.9990531572465715, 0.9993092285799549, 0.04431365835655637, 0.9555283927594066, 0.9996067077536548, 0.9997976379893873, 0.9966586097927009, 0.9969017572303641, 0.9960238639185728, 0.9933427487648417, 0.9984791998623918, 0.9955845359036362, 0.9957320714620219, 0.9973359616057771, 0.9963173703708595, 0.9985947918620831, 0.997225010636158, 0.9965150795063847, 0.9827542394504575, 0.9950634269357659, 0.9996627356559773, 0.9905766036604065, 0.9991342909444092, 0.9898537831841107, 0.9945172537091534, 0.9971091155004296, 0.9949072488137948, 0.9943507355121439, 0.9925514482469705, 0.9926258613418036, 0.9994799973174292, 0.9984269177647538, 0.998946701294199, 0.9992179155260954, 0.9997527624788382, 0.9937116163564821, 0.9981105953360127, 0.9985150923223222, 0.9946187053074892, 0.9959901042529923, 0.9991963095199925, 0.9995633820776353, 0.005080938754862913, 0.9945090789518342, 0.9970528528688796, 0.9951561452644724, 0.9987616012582845, 0.9954329671188084, 0.9824594959719257, 0.0172188694837343, 0.9899782282922288, 0.000926538211401307, 0.9991170379610761, 0.9999210452810591, 0.9962970547560214, 0.999712375545855, 0.00019417546383332135, 0.999143833739527, 0.9997477518167278, 0.9934215729378919, 0.9995771248626057, 0.9964671552948696, 0.9979031705814244, 0.998065954015757, 0.999503298105729, 0.9936753655970021, 0.990379348225006, 0.999585682159514, 0.9905560138062601, 0.9961371904779539, 0.9969820076012155, 0.9953238599658025, 0.9997114525912412, 0.9979542989851045, 0.9975868808166269, 0.9985199856491758, 0.9996051905255349, 0.9983172336650865, 0.9989253620446907, 0.9950926806793577, 0.9954809693088416, 0.9993851386895894, 0.999883883918319, 0.9971669708718391, 0.9997140127281412, 0.9995947005030738, 0.9990068754452698, 0.9924947830112101, 0.32625786023500747, 0.6735374898150541, 0.9769475709335721, 0.9997196476090159, 0.9996958771559756, 0.9996140917493055, 0.9976539327344972, 0.9975180927256124, 0.9977558533617448, 0.9979930662858727, 0.9927054772250767, 0.9934312855338765, 0.9922899101413514, 0.9998131664382915, 0.9950579496515636, 0.9992541551273889, 0.028176618695787754, 0.9709193192256864, 0.9989006677466897, 0.9994930938008637, 0.99950777012688, 0.9957096040228699, 0.9990307447837593, 0.99309585134756, 0.9933749955704366, 0.9997258537834405, 0.9950935068261132, 0.9989312707084202, 0.9994175126122187, 0.9914148932202324, 0.999803010720571, 0.9994062301595447, 0.9881396325276366, 0.9932947158191769, 0.9966309472406341, 0.9964436031565012, 0.9997664245475953, 0.996875070453653, 0.9969558797721858, 0.9993897715491493, 0.390372688426226, 0.0875303736733109, 0.5213487950176766, 0.9980532491867499, 0.013654146620700957, 0.9861707396801265, 0.9995749600381237, 0.9981223328722362, 0.9972748072909096, 0.9951469202719306, 0.9996541956095453, 0.23521399097997073, 0.7646179149598169, 0.9990713442881959, 0.9991029016446029, 0.994620451558546, 0.9966633501204988, 0.9973100195148755, 0.9949961709304203, 0.0035082872681356657, 0.9964459074996905, 0.9954530960718911, 0.9998212014510791, 0.9995108960228888, 0.9983763495682868, 0.9976409108714556, 0.9951824658175208, 0.9997986562020614, 0.9937825697481869, 0.9963329219825114, 0.9957865596154079, 0.9997039424552644, 0.9953582667675429, 0.9973476724503082, 0.9921268384671308, 0.9976747529168909, 0.9936121770586824, 0.997157176057339, 0.9947829293397228, 0.9953504810514799, 0.9934019637432545, 0.04606821730508058, 0.9535049628260864, 0.9927865120359912, 0.9998092733977516, 0.9979613432109129, 0.990484656820424, 0.9992880982762025, 0.9972088057973721, 0.9962971246927883, 0.9953537546905594, 0.08410370228563646, 0.9147575520203176, 0.9957284130336906, 0.9995455275230493, 0.9916140726945327, 0.9953838295003015, 0.9967846722103112, 0.9987130749754886, 0.9984878359589162, 0.9953104731221155, 0.9982475773534428, 0.9996434314888875, 0.9974306911770544, 0.99650042315279, 0.9979984932396793, 0.9996237353315762, 0.996504898967337, 0.9998623678563364, 0.9973466877670933, 0.9980058401566895, 0.0011403662734807874, 0.9983906724324294, 0.9944347568084085, 0.9998457561614894, 0.99861506210377, 0.9973699223599781, 0.991761569835006, 0.997193883692936, 0.9979646067498594, 0.9980239928787377, 0.9958347574769901, 0.998211101405484, 0.9870320269358578, 0.9995200907736566, 0.9996521335164527, 0.9872409030346568, 0.9994888690308902, 0.9934007224638564, 0.9936647648630443, 0.9986461983677846, 0.00843409838364356, 0.9910065600781184, 0.9995213349301021, 0.9905940180609482, 0.991441784785389, 0.005188530927790959, 0.0034590206185273055, 0.9991269719201818, 0.0008053416398349073, 0.9950781708557757, 0.9963632386412554, 0.9997344218615378, 0.9989749487906698, 0.9943946109547294, 0.9937248623576589, 0.999832336367934, 0.9959713662226967, 0.9914172663498112, 0.9988470836965134], \"Term\": [\"absolutely\", \"accentuate\", \"add\", \"adorable\", \"adore\", \"age\", \"airy\", \"allow\", \"already\", \"also\", \"alter\", \"always\", \"amount\", \"anyway\", \"arm\", \"arm_hole\", \"arrive\", \"available\", \"away\", \"awkward\", \"back\", \"band\", \"base\", \"basic\", \"beautiful\", \"become\", \"big\", \"bit\", \"bit\", \"blouse\", \"bodice\", \"body\", \"body\", \"boot\", \"bordeaux\", \"boxy\", \"brown\", \"bust\", \"buy\", \"buy\", \"call\", \"certainly\", \"charming\", \"cheap\", \"chest\", \"chic\", \"choose\", \"close\", \"closet\", \"clothe\", \"clothing\", \"coat\", \"collection\", \"color\", \"comfortable\", \"comfy\", \"complaint\", \"completely\", \"concern\", \"consider\", \"construction\", \"cool\", \"cost\", \"coverage\", \"cozy\", \"crotch\", \"cuff\", \"curve\", \"cut\", \"cute\", \"dd\", \"deal\", \"depend\", \"develop\", \"disappoint\", \"dress\", \"early\", \"edge\", \"elastic\", \"elegant\", \"else\", \"end\", \"enjoy\", \"especially\", \"even\", \"everywhere\", \"excellent\", \"exchange\", \"excited\", \"expect\", \"extra\", \"fabric\", \"feel\", \"figure\", \"find\", \"fine\", \"fit\", \"fit\", \"fit\", \"fitting\", \"flattering\", \"fresh\", \"front\", \"frumpy\", \"get\", \"give\", \"glad\", \"go\", \"go\", \"good\", \"great\", \"green\", \"grey\", \"half\", \"happen\", \"hard\", \"height\", \"help\", \"hide\", \"highly_recommend\", \"hip\", \"hold\", \"hole\", \"hopefully\", \"hot\", \"however\", \"hug\", \"huge\", \"husband\", \"imagine\", \"immediately\", \"instead\", \"interesting\", \"itchy\", \"ivory\", \"jean\", \"knit\", \"know\", \"lace\", \"large\", \"lay\", \"layer\", \"lbs\", \"leather\", \"leave\", \"leg\", \"legging\", \"length\", \"length\", \"less\", \"let\", \"like\", \"lining\", \"little\", \"little\", \"live\", \"long\", \"long\", \"look\", \"lose\", \"love\", \"love\", \"low\", \"make\", \"match\", \"material\", \"maternity\", \"maybe\", \"mean\", \"medium\", \"mine\", \"mix\", \"model\", \"money\", \"month\", \"move\", \"movement\", \"much\", \"neck\", \"neckline\", \"never\", \"nice\", \"normal\", \"normally\", \"odd\", \"often\", \"online\", \"order\", \"otherwise\", \"pair\", \"pant\", \"pattern\", \"pay\", \"perfect\", \"perfect\", \"perfection\", \"perfectly\", \"petite\", \"picture\", \"pink\", \"place\", \"pocket\", \"point\", \"poor\", \"pop\", \"positive\", \"pretty\", \"previous\", \"price\", \"probably\", \"probably\", \"problem\", \"purchase\", \"quality\", \"quickly\", \"quite\", \"rayon\", \"realize\", \"really\", \"reason\", \"reference\", \"regular\", \"remind\", \"retailer\", \"return\", \"rib\", \"rich\", \"roomy\", \"ruffle\", \"run\", \"sad\", \"sadly\", \"sale\", \"say\", \"say\", \"say\", \"seam\", \"see\", \"see\", \"seem\", \"sell\", \"sexy\", \"shapeless\", \"shirt\", \"short\", \"short\", \"shoulder\", \"side\", \"silk\", \"silky\", \"simple\", \"sit\", \"size\", \"size\", \"skin\", \"skirt\", \"sleeve\", \"slightly\", \"slim\", \"slimme\", \"small\", \"snag\", \"snug\", \"sock\", \"soft\", \"somewhat\", \"soon\", \"sort\", \"special\", \"stand\", \"star\", \"state\", \"stay\", \"stiff\", \"still\", \"still\", \"stitch\", \"store\", \"straight\", \"strange\", \"stretch\", \"substantial\", \"subtle\", \"suit\", \"sure\", \"sure\", \"surprise\", \"sweater\", \"sweatshirt\", \"swing\", \"tailor\", \"tall\", \"tank\", \"tend\", \"thick\", \"think\", \"though\", \"thread\", \"throw\", \"tight\", \"ton\", \"top\", \"totally\", \"touch\", \"true\", \"true\", \"truly\", \"try\", \"tshirt\", \"tts\", \"tummy\", \"tunic\", \"typically\", \"underneath\", \"unflattering\", \"unfortunately\", \"unlined\", \"usual\", \"usually\", \"vintage\", \"waist\", \"waistband\", \"waistline\", \"wait\", \"want\", \"want\", \"wash\", \"washing\", \"way\", \"way\", \"way\", \"wear\", \"wear\", \"weather\", \"wedding\", \"well\", \"wide\", \"width\", \"wool\", \"work\", \"worried\", \"worry\", \"worth\"]}, \"R\": 30, \"lambda.step\": 0.01, \"plot.opts\": {\"xlab\": \"PC1\", \"ylab\": \"PC2\"}, \"topic.order\": [6, 2, 5, 9, 3, 7, 8, 10, 1, 4]};\n",
              "\n",
              "function LDAvis_load_lib(url, callback){\n",
              "  var s = document.createElement('script');\n",
              "  s.src = url;\n",
              "  s.async = true;\n",
              "  s.onreadystatechange = s.onload = callback;\n",
              "  s.onerror = function(){console.warn(\"failed to load library \" + url);};\n",
              "  document.getElementsByTagName(\"head\")[0].appendChild(s);\n",
              "}\n",
              "\n",
              "if(typeof(LDAvis) !== \"undefined\"){\n",
              "   // already loaded: just create the visualization\n",
              "   !function(LDAvis){\n",
              "       new LDAvis(\"#\" + \"ldavis_el1491406461490789285396054194\", ldavis_el1491406461490789285396054194_data);\n",
              "   }(LDAvis);\n",
              "}else if(typeof define === \"function\" && define.amd){\n",
              "   // require.js is available: use it to load d3/LDAvis\n",
              "   require.config({paths: {d3: \"https://d3js.org/d3.v5\"}});\n",
              "   require([\"d3\"], function(d3){\n",
              "      window.d3 = d3;\n",
              "      LDAvis_load_lib(\"https://cdn.jsdelivr.net/gh/bmabey/pyLDAvis/pyLDAvis/js/ldavis.v3.0.0.js\", function(){\n",
              "        new LDAvis(\"#\" + \"ldavis_el1491406461490789285396054194\", ldavis_el1491406461490789285396054194_data);\n",
              "      });\n",
              "    });\n",
              "}else{\n",
              "    // require.js not available: dynamically load d3 & LDAvis\n",
              "    LDAvis_load_lib(\"https://d3js.org/d3.v5.js\", function(){\n",
              "         LDAvis_load_lib(\"https://cdn.jsdelivr.net/gh/bmabey/pyLDAvis/pyLDAvis/js/ldavis.v3.0.0.js\", function(){\n",
              "                 new LDAvis(\"#\" + \"ldavis_el1491406461490789285396054194\", ldavis_el1491406461490789285396054194_data);\n",
              "            })\n",
              "         });\n",
              "}\n",
              "</script>"
            ]
          },
          "metadata": {},
          "execution_count": 53
        }
      ]
    },
    {
      "cell_type": "markdown",
      "metadata": {
        "id": "efQl15CYJMFB"
      },
      "source": [
        "## 16. Compute Model Perplexity and Coherence Score\n"
      ]
    },
    {
      "cell_type": "code",
      "metadata": {
        "id": "wuud9M0VJMFC",
        "scrolled": true,
        "colab": {
          "base_uri": "https://localhost:8080/"
        },
        "outputId": "d073176d-ca8b-40ea-8ac5-e285fc2fd252"
      },
      "source": [
        "# Compute Perplexity\n",
        "print('\\nPerplexity: ', lda_model.log_perplexity(corpus))  # a measure of how good the model is. lower the better.\n",
        "\n",
        "# Compute Coherence Score\n",
        "coherence_model_lda = CoherenceModel(model=lda_model, texts=data_lemmatized, dictionary=id2word, coherence='c_v')\n",
        "coherence_lda = coherence_model_lda.get_coherence()\n",
        "print('\\nCoherence Score: ', coherence_lda)"
      ],
      "execution_count": null,
      "outputs": [
        {
          "output_type": "stream",
          "name": "stderr",
          "text": [
            "/usr/local/lib/python3.9/dist-packages/ipykernel/ipkernel.py:283: DeprecationWarning: `should_run_async` will not call `transform_cell` automatically in the future. Please pass the result to `transformed_cell` argument and any exception that happen during thetransform in `preprocessing_exc_tuple` in IPython 7.17 and above.\n",
            "  and should_run_async(code)\n"
          ]
        },
        {
          "output_type": "stream",
          "name": "stdout",
          "text": [
            "\n",
            "Perplexity:  -6.941772573061131\n",
            "\n",
            "Coherence Score:  0.28553803267800265\n"
          ]
        }
      ]
    }
  ]
}